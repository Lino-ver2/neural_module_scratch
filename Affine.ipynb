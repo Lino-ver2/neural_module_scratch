{
 "cells": [
  {
   "cell_type": "code",
   "execution_count": 36,
   "metadata": {},
   "outputs": [],
   "source": [
    "import numpy as np\n",
    "np.random.seed(42)"
   ]
  },
  {
   "cell_type": "code",
   "execution_count": 37,
   "metadata": {},
   "outputs": [],
   "source": [
    "import numpy as np\n",
    "np.random.seed(42)\n",
    "\n",
    "\n",
    "class Affine():\n",
    "    def __init__(self, in_dim: int, out_dim: int):\n",
    "        \"\"\"\n",
    "        in_dim : explanatory_variable_dim_\n",
    "        out_dim : target_variable_dim_\n",
    "        dw : parameter_gradient_\n",
    "        db : bias_gradient_\n",
    "        \"\"\"\n",
    "        self.in_dim = in_dim\n",
    "        self.out_dim = out_dim\n",
    "        \n",
    "        self.weight = np.random.randn(in_dim, out_dim)\n",
    "        self.bias = np.zeros(out_dim, dtype=float)\n",
    "\n",
    "        self.dx , self.dw, self.db = None, None, None\n",
    "\n",
    "    def __call__(self, x: np.ndarray) -> np.ndarray:\n",
    "        \"\"\" forward_propagation\n",
    "        x : input_data_ (batch_size, in_dim)\n",
    "        output : output_data_ (batch_size, out_dim)\n",
    "        \"\"\"\n",
    "        self.x = x\n",
    "        output = np.dot(self.x, self.weight) + self.bias\n",
    "        self.param = {'w' : self.weight, 'b' : self.bias}\n",
    "        return  output\n",
    "\n",
    "    def backward(self, grad: np.ndarray) -> np.ndarray:\n",
    "        \"\"\" back_propagation\n",
    "        grad : previous_gradient_ (batch_size, out_dim)\n",
    "        dx : gradient_ (batch_size, in_dim)\n",
    "        \"\"\"\n",
    "        dx = np.dot(grad, self.weight.T)\n",
    "        dw = np.dot(self.x.T, grad)\n",
    "        db = np.sum(self.bias)\n",
    "        self.grad_param = {'w' : dw, 'b' : db}\n",
    "        return dx"
   ]
  },
  {
   "cell_type": "code",
   "execution_count": 38,
   "metadata": {},
   "outputs": [
    {
     "name": "stdout",
     "output_type": "stream",
     "text": [
      "-------------  Affine_output  ------------\n",
      " [[-0.26871803  0.0814023  -0.92264842  0.73757   ]\n",
      " [ 2.9175661   1.40953049 -0.53453859  1.20075926]]\n",
      "\n",
      "----------------  params  ----------------\n",
      " {'w': array([[ 1.57921282,  0.76743473, -0.46947439,  0.54256004],\n",
      "       [-0.46341769, -0.46572975,  0.24196227, -1.91328024],\n",
      "       [-1.72491783, -0.56228753, -1.01283112,  0.31424733]]), 'b': array([0., 0., 0., 0.])}\n"
     ]
    }
   ],
   "source": [
    "# create_data\n",
    "x = np.random.randn(2,3) # (batch_size, input_dim)\n",
    "\n",
    "# forward_propagation\n",
    "_, dim = x.shape\n",
    "out_dim = 4\n",
    "affine = Affine(dim, 4)\n",
    "out = affine(x)\n",
    "print('-------------  Affine_output  ------------\\n',out)\n",
    "print()\n",
    "# parameters\n",
    "print('----------------  params  ----------------\\n', affine.param)"
   ]
  },
  {
   "cell_type": "code",
   "execution_count": 39,
   "metadata": {},
   "outputs": [
    {
     "name": "stdout",
     "output_type": "stream",
     "text": [
      "----------------  grad  -------------\n",
      " [[-3.32839592  1.86515132  0.80498339]\n",
      " [-0.67100392  0.28830778  1.27086243]]\n",
      "\n",
      "---------------params_grad-----------\n",
      " {'w': array([[-0.34818094, -2.87144526, -0.10110266,  0.05679213],\n",
      "       [ 0.10973536,  0.52888078, -0.07517785,  0.0052439 ],\n",
      "       [-0.60392763, -0.58114671,  1.07674402, -0.1722038 ]]), 'b': 0.0}\n"
     ]
    }
   ],
   "source": [
    "# demo_grad\n",
    "grad = np.random.randn(2, 4)\n",
    "#back_propagation\n",
    "dx = affine.backward(grad)\n",
    "print('----------------  grad  -------------\\n', dx)\n",
    "print()\n",
    "# grad_parameters\n",
    "print('---------------params_grad-----------\\n',affine.grad_param)"
   ]
  },
  {
   "cell_type": "code",
   "execution_count": null,
   "metadata": {},
   "outputs": [],
   "source": []
  }
 ],
 "metadata": {
  "kernelspec": {
   "display_name": "Python 3.8.12 ('anaconda3')",
   "language": "python",
   "name": "python3"
  },
  "language_info": {
   "codemirror_mode": {
    "name": "ipython",
    "version": 3
   },
   "file_extension": ".py",
   "mimetype": "text/x-python",
   "name": "python",
   "nbconvert_exporter": "python",
   "pygments_lexer": "ipython3",
   "version": "3.8.12"
  },
  "orig_nbformat": 4,
  "vscode": {
   "interpreter": {
    "hash": "c8dc0e1aaedc0f4508af2e31239646ff268de5d64b0b4927e542f306107c7d4a"
   }
  }
 },
 "nbformat": 4,
 "nbformat_minor": 2
}
