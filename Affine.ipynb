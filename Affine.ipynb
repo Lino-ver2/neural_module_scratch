{
 "cells": [
  {
   "cell_type": "code",
   "execution_count": 67,
   "metadata": {},
   "outputs": [],
   "source": [
    "import numpy as np\n",
    "np.random.seed(42)"
   ]
  },
  {
   "cell_type": "code",
   "execution_count": 91,
   "metadata": {},
   "outputs": [],
   "source": [
    "class Affine():\n",
    "    def __init__(self, in_dim: int, out_dim: int):\n",
    "        \"\"\"\n",
    "        in_dim : explanatory_variable_dim_\n",
    "        out_dim : target_variable_dim_\n",
    "        w : parameter\n",
    "        b : bias\n",
    "        dw : parameter_gradient\n",
    "        db : bias_gradient\n",
    "        \"\"\"\n",
    "        self.in_dim = in_dim\n",
    "        self.out_dim = out_dim\n",
    "        \n",
    "        self.w = np.random.randn(self.in_dim, self.out_dim)\n",
    "        self.b = np.zeros(self.out_dim, dtype=float)\n",
    "\n",
    "        self.dx , self.dw, self.db = None, None, None\n",
    "\n",
    "    def __call__(self, x: np.ndarray) -> np.ndarray:\n",
    "        \"\"\" forward_propagation\n",
    "        x : input_data_ (batch_size, in_dim)\n",
    "        out : target_data_ (batch_size, out_dim)\n",
    "        \"\"\"\n",
    "        self.x = x\n",
    "        self.out = np.dot(self.x, self.w) + self.b\n",
    "        self.param = {'w' : self.w, 'b' : self.b}\n",
    "        return  self.out\n",
    "\n",
    "    def backward(self, grad: np.ndarray) -> np.ndarray:\n",
    "        \"\"\" back_propagation\n",
    "        grad : previous_gradient_ (batch_size, out_dim)\n",
    "        dx : gradient_ (batch_size, in_dim)\n",
    "        \"\"\"\n",
    "        self.dx = np.dot(grad, self.w.T)\n",
    "        self.dw = np.dot(self.x.T, grad)\n",
    "        self.db = np.sum(self.b)\n",
    "        self.grad_param = {'x' : self.dx, 'w' : self.dw, 'b' : self.db}\n",
    "        return self.dx"
   ]
  },
  {
   "cell_type": "code",
   "execution_count": 92,
   "metadata": {},
   "outputs": [
    {
     "data": {
      "text/plain": [
       "array([[-0.47917424, -0.18565898, -1.10633497],\n",
       "       [-1.19620662,  0.81252582,  1.35624003]])"
      ]
     },
     "execution_count": 92,
     "metadata": {},
     "output_type": "execute_result"
    }
   ],
   "source": [
    "# demo_data\n",
    "x = np.random.randn(2,3) # (batch_size, input_dim)\n",
    "x"
   ]
  },
  {
   "cell_type": "code",
   "execution_count": 93,
   "metadata": {},
   "outputs": [
    {
     "data": {
      "text/plain": [
       "array([[ 2.86572469, -1.67571689, -0.26293846,  0.34943692],\n",
       "       [-3.17322093,  1.1639588 , -0.34364427,  1.63748416]])"
      ]
     },
     "execution_count": 93,
     "metadata": {},
     "output_type": "execute_result"
    }
   ],
   "source": [
    "# forward_propagation\n",
    "_, dim = x.shape\n",
    "out_dim = 4\n",
    "affine = Affine(dim, 4)\n",
    "out = affine(x)\n",
    "out"
   ]
  },
  {
   "cell_type": "code",
   "execution_count": 94,
   "metadata": {},
   "outputs": [
    {
     "data": {
      "text/plain": [
       "{'w': array([[-0.07201012,  1.0035329 ,  0.36163603, -0.64511975],\n",
       "        [ 0.36139561,  1.53803657, -0.03582604,  1.56464366],\n",
       "        [-2.6197451 ,  0.8219025 ,  0.08704707, -0.29900735]]),\n",
       " 'b': array([0., 0., 0., 0.])}"
      ]
     },
     "execution_count": 94,
     "metadata": {},
     "output_type": "execute_result"
    }
   ],
   "source": [
    "# parameters\n",
    "affine.param"
   ]
  },
  {
   "cell_type": "code",
   "execution_count": 95,
   "metadata": {},
   "outputs": [
    {
     "data": {
      "text/plain": [
       "array([[ 0.09176078, -1.98756891, -0.21967189,  0.35711257],\n",
       "       [ 1.47789404, -0.51827022, -0.8084936 , -0.50175704]])"
      ]
     },
     "execution_count": 95,
     "metadata": {},
     "output_type": "execute_result"
    }
   ],
   "source": [
    "# demo_grad\n",
    "grad = np.random.randn(2, 4)\n",
    "grad"
   ]
  },
  {
   "cell_type": "code",
   "execution_count": 96,
   "metadata": {},
   "outputs": [
    {
     "data": {
      "text/plain": [
       "array([[-2.31102014, -2.45716783, -1.99987879],\n",
       "       [-0.59521158, -1.01911999, -4.21802123]])"
      ]
     },
     "execution_count": 96,
     "metadata": {},
     "output_type": "execute_result"
    }
   ],
   "source": [
    "#back_propagation\n",
    "dx = affine.backward(grad)\n",
    "dx"
   ]
  },
  {
   "cell_type": "code",
   "execution_count": 98,
   "metadata": {},
   "outputs": [
    {
     "data": {
      "text/plain": [
       "{'x': array([[-2.31102014, -2.45716783, -1.99987879],\n",
       "        [-0.59521158, -1.01911999, -4.21802123]]),\n",
       " 'w': array([[-1.81183605,  1.57235009,  1.07238651,  0.42908595],\n",
       "        [ 1.18379086, -0.05209792, -0.61613787, -0.47399171],\n",
       "        [ 1.90286091,  1.49601819, -0.85348069, -1.07558911]]),\n",
       " 'b': 0.0}"
      ]
     },
     "execution_count": 98,
     "metadata": {},
     "output_type": "execute_result"
    }
   ],
   "source": [
    "# grad_parameters\n",
    "affine.grad_param"
   ]
  },
  {
   "cell_type": "code",
   "execution_count": null,
   "metadata": {},
   "outputs": [],
   "source": []
  }
 ],
 "metadata": {
  "kernelspec": {
   "display_name": "Python 3.8.12 ('anaconda3')",
   "language": "python",
   "name": "python3"
  },
  "language_info": {
   "codemirror_mode": {
    "name": "ipython",
    "version": 3
   },
   "file_extension": ".py",
   "mimetype": "text/x-python",
   "name": "python",
   "nbconvert_exporter": "python",
   "pygments_lexer": "ipython3",
   "version": "3.8.12"
  },
  "orig_nbformat": 4,
  "vscode": {
   "interpreter": {
    "hash": "c8dc0e1aaedc0f4508af2e31239646ff268de5d64b0b4927e542f306107c7d4a"
   }
  }
 },
 "nbformat": 4,
 "nbformat_minor": 2
}
