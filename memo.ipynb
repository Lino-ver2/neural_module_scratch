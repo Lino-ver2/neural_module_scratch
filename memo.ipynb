{
 "cells": [
  {
   "cell_type": "code",
   "execution_count": 1,
   "metadata": {},
   "outputs": [],
   "source": [
    "import numpy as np\n",
    "import torch\n",
    "import torch.nn as nn\n",
    "from module import Linear"
   ]
  },
  {
   "cell_type": "code",
   "execution_count": 2,
   "metadata": {},
   "outputs": [],
   "source": [
    "np.random.seed(42)\n",
    "# 自作モジュール\n",
    "x = np.random.randn(2,3,3,4)\n",
    "affine = Linear(4,6)\n",
    "# torch.nn.Linear\n",
    "xt = torch.tensor(x).float()\n",
    "linear = nn.Linear(4,6)\n",
    "# nn.Linearのパラメータを自作モジュールに上書き\n",
    "weight = linear.weight.detach().numpy().copy()\n",
    "affine.weight = weight\n",
    "bias = linear.bias.detach().numpy().copy()\n",
    "affine.bias = bias\n",
    "# 自作モジュールの出力\n",
    "y = affine(x)\n",
    "# nn.Linearの出力\n",
    "yt = linear(xt).detach().numpy().copy()"
   ]
  },
  {
   "cell_type": "code",
   "execution_count": 8,
   "metadata": {},
   "outputs": [
    {
     "name": "stdout",
     "output_type": "stream",
     "text": [
      "-0.4672098047691683\n",
      "-0.46720976\n"
     ]
    }
   ],
   "source": [
    "print(y[0][0][0][0])\n",
    "print(yt[0][0][0][0])"
   ]
  },
  {
   "cell_type": "code",
   "execution_count": 10,
   "metadata": {},
   "outputs": [
    {
     "data": {
      "text/plain": [
       "array([[False, False, False, False, False, False],\n",
       "       [False, False, False, False, False, False],\n",
       "       [False, False, False, False, False, False]])"
      ]
     },
     "execution_count": 10,
     "metadata": {},
     "output_type": "execute_result"
    }
   ],
   "source": [
    "np.round(y[0][0], decimals=3) == np.round(yt[0][0], decimals=3)"
   ]
  },
  {
   "cell_type": "code",
   "execution_count": null,
   "metadata": {},
   "outputs": [],
   "source": []
  }
 ],
 "metadata": {
  "kernelspec": {
   "display_name": "Python 3.9.13 64-bit",
   "language": "python",
   "name": "python3"
  },
  "language_info": {
   "codemirror_mode": {
    "name": "ipython",
    "version": 3
   },
   "file_extension": ".py",
   "mimetype": "text/x-python",
   "name": "python",
   "nbconvert_exporter": "python",
   "pygments_lexer": "ipython3",
   "version": "3.9.13"
  },
  "orig_nbformat": 4,
  "vscode": {
   "interpreter": {
    "hash": "b0fa6594d8f4cbf19f97940f81e996739fb7646882a419484c72d19e05852a7e"
   }
  }
 },
 "nbformat": 4,
 "nbformat_minor": 2
}
