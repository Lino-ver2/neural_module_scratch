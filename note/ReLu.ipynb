{
 "cells": [
  {
   "cell_type": "code",
   "execution_count": 143,
   "metadata": {},
   "outputs": [],
   "source": [
    "import sys\n",
    "import os\n",
    "import numpy as np"
   ]
  },
  {
   "cell_type": "code",
   "execution_count": 144,
   "metadata": {},
   "outputs": [],
   "source": [
    "class ReLu():\n",
    "    def __init__(self):\n",
    "        self.mask = None\n",
    "\n",
    "    def __call__(self, x: np.ndarray) -> np.ndarray:\n",
    "        \"\"\" forward\n",
    "        self.mask : boolean_mask_ where(x>0, True)\n",
    "        \"\"\"\n",
    "        self.mask  = [x > 0]\n",
    "        dims = list(x.shape)\n",
    "        out = np.zeros(dims)\n",
    "        out[x > 0] = x[x > 0]\n",
    "        return out\n",
    "\n",
    "    def backward(self, grad: np.ndarray) -> np.ndarray:\n",
    "        mask = self.mask[0]\n",
    "        dx = grad * mask\n",
    "        return dx"
   ]
  },
  {
   "cell_type": "code",
   "execution_count": 145,
   "metadata": {},
   "outputs": [
    {
     "name": "stdout",
     "output_type": "stream",
     "text": [
      "--------------------- output --------------------\n",
      " [[[0.49671415 0.         0.64768854 1.52302986]\n",
      "  [0.         0.         1.57921282 0.76743473]\n",
      "  [0.         0.54256004 0.         0.        ]]\n",
      "\n",
      " [[0.24196227 0.         0.         0.        ]\n",
      "  [0.         0.31424733 0.         0.        ]\n",
      "  [1.46564877 0.         0.0675282  0.        ]]]\n",
      "\n",
      "----------------------- dx ----------------------\n",
      " [[[-0.54438272  0.         -1.15099358  0.37569802]\n",
      "  [-0.         -0.         -0.60170661  1.85227818]\n",
      "  [-0.         -1.05771093  0.         -0.        ]]\n",
      "\n",
      " [[ 0.2088636  -0.         -0.          0.        ]\n",
      "  [ 0.          0.17136828 -0.         -0.        ]\n",
      "  [-1.47852199 -0.         -0.46063877  0.        ]]]\n"
     ]
    }
   ],
   "source": [
    "# Create data\n",
    "batch, channel, dim = np.arange(2,5)\n",
    "x = np.random.randn(batch, channel, dim)\n",
    "# ReLu forward\n",
    "relu = ReLu()\n",
    "out = relu(x)\n",
    "print('--------------------- output --------------------\\n',out)\n",
    "print()\n",
    "# Create demo gradient\n",
    "grad = np.random.randn(batch, channel, dim)\n",
    "dx = relu.backward(grad)\n",
    "print('----------------------- dx ----------------------\\n', dx)"
   ]
  }
 ],
 "metadata": {
  "kernelspec": {
   "display_name": "Python 3.9.13 64-bit",
   "language": "python",
   "name": "python3"
  },
  "language_info": {
   "codemirror_mode": {
    "name": "ipython",
    "version": 3
   },
   "file_extension": ".py",
   "mimetype": "text/x-python",
   "name": "python",
   "nbconvert_exporter": "python",
   "pygments_lexer": "ipython3",
   "version": "3.9.13"
  },
  "orig_nbformat": 4,
  "vscode": {
   "interpreter": {
    "hash": "b0fa6594d8f4cbf19f97940f81e996739fb7646882a419484c72d19e05852a7e"
   }
  }
 },
 "nbformat": 4,
 "nbformat_minor": 2
}
