{
 "cells": [
  {
   "cell_type": "code",
   "execution_count": 143,
   "metadata": {},
   "outputs": [],
   "source": [
    "import sys\n",
    "import os\n",
    "import numpy as np"
   ]
  },
  {
   "cell_type": "code",
   "execution_count": 144,
   "metadata": {},
   "outputs": [],
   "source": [
    "class ReLu():\n",
    "    def __init__(self):\n",
    "        self.mask = None\n",
    "\n",
    "    def __call__(self, x: np.ndarray) -> np.ndarray:\n",
    "        \"\"\" forward\n",
    "        self.mask : boolean_mask_ where(x>0, True)\n",
    "        \"\"\"\n",
    "        self.mask  = [x > 0]\n",
    "        dims = list(x.shape)\n",
    "        out = np.zeros(dims)\n",
    "        out[x > 0] = x[x > 0]\n",
    "        return out\n",
    "\n",
    "    def backward(self, grad: np.ndarray) -> np.ndarray:\n",
    "        mask = self.mask[0]\n",
    "        dx = grad * mask\n",
    "        return dx"
   ]
  },
  {
   "cell_type": "code",
   "execution_count": 149,
   "metadata": {},
   "outputs": [
    {
     "name": "stdout",
     "output_type": "stream",
     "text": [
      "-----------------------  x  ---------------------\n",
      " [[[ 0.34361829 -1.76304016  0.32408397 -0.38508228]\n",
      "  [-0.676922    0.61167629  1.03099952  0.93128012]\n",
      "  [-0.83921752 -0.30921238  0.33126343  0.97554513]]\n",
      "\n",
      " [[-0.47917424 -0.18565898 -1.10633497 -1.19620662]\n",
      "  [ 0.81252582  1.35624003 -0.07201012  1.0035329 ]\n",
      "  [ 0.36163603 -0.64511975  0.36139561  1.53803657]]]\n",
      "\n",
      "--------------------- output --------------------\n",
      " [[[0.34361829 0.         0.32408397 0.        ]\n",
      "  [0.         0.61167629 1.03099952 0.93128012]\n",
      "  [0.         0.         0.33126343 0.97554513]]\n",
      "\n",
      " [[0.         0.         0.         0.        ]\n",
      "  [0.81252582 1.35624003 0.         1.0035329 ]\n",
      "  [0.36163603 0.         0.36139561 1.53803657]]]\n",
      "\n",
      "----------------------- dx ----------------------\n",
      " [[[-0.03582604  0.         -2.6197451   0.        ]\n",
      "  [ 0.         -0.29900735  0.09176078 -1.98756891]\n",
      "  [-0.          0.          1.47789404 -0.51827022]]\n",
      "\n",
      " [[-0.         -0.          0.          0.        ]\n",
      "  [-0.5297602   0.51326743  0.          0.96864499]\n",
      "  [-0.70205309 -0.         -0.39210815 -1.46351495]]]\n"
     ]
    }
   ],
   "source": [
    "# Create data\n",
    "batch, channel, dim = np.arange(2,5)\n",
    "x = np.random.randn(batch, channel, dim)\n",
    "# ReLu forward\n",
    "relu = ReLu()\n",
    "out = relu(x)\n",
    "print('-----------------------  x  ---------------------\\n',x)\n",
    "print()\n",
    "print('--------------------- output --------------------\\n',out)\n",
    "print()\n",
    "# Create demo gradient\n",
    "grad = np.random.randn(batch, channel, dim)\n",
    "dx = relu.backward(grad)\n",
    "print('----------------------- dx ----------------------\\n', dx)"
   ]
  }
 ],
 "metadata": {
  "kernelspec": {
   "display_name": "Python 3.9.13 64-bit",
   "language": "python",
   "name": "python3"
  },
  "language_info": {
   "codemirror_mode": {
    "name": "ipython",
    "version": 3
   },
   "file_extension": ".py",
   "mimetype": "text/x-python",
   "name": "python",
   "nbconvert_exporter": "python",
   "pygments_lexer": "ipython3",
   "version": "3.9.13"
  },
  "orig_nbformat": 4,
  "vscode": {
   "interpreter": {
    "hash": "b0fa6594d8f4cbf19f97940f81e996739fb7646882a419484c72d19e05852a7e"
   }
  }
 },
 "nbformat": 4,
 "nbformat_minor": 2
}
